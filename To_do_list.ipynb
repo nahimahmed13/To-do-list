{
 "cells": [
  {
   "cell_type": "code",
   "execution_count": 3,
   "metadata": {},
   "outputs": [
    {
     "name": "stdout",
     "output_type": "stream",
     "text": [
      "---------------------------\n",
      "MENU\n",
      "---------------------------\n",
      "1. Add item\n",
      "2. Mark as done\n",
      "3. View list\n",
      "4. Exit\n",
      "---------------------------\n",
      "Goodbye!\n",
      "\n"
     ]
    }
   ],
   "source": [
    "data = []\n",
    "\n",
    "def line():\n",
    "    print('---------------------------')\n",
    "\n",
    "def show_menu():\n",
    "    line()\n",
    "    print('MENU')\n",
    "    line()\n",
    "    print('1. Add item')\n",
    "    print('2. Mark as done')\n",
    "    print('3. View list')\n",
    "    print('4. Exit')\n",
    "    line()\n",
    "\n",
    "show_menu()  \n",
    "while True:\n",
    "\tchoice = input('Enter your choice: ')\n",
    "\tif choice == '1':\n",
    "\t\titem = input('What is to be done? ')\n",
    "\t\tdata.append(item)\n",
    "\t\tprint('Item', item, 'added\\n')\n",
    "\telif choice == '2':\n",
    "\t\titem = input('What is to be marked as done? ')\n",
    "\t\tif item in data:\n",
    "\t\t\tdata.remove(item)\n",
    "\t\t\tprint('Removed item', item,'\\n')\n",
    "\t\telse:\n",
    "\t\t\tprint('Could not find item', item,'\\n')\n",
    "\telif choice == '3':\n",
    "\t\tprint('List of to-do items:')\n",
    "\t\tfor item in data:\n",
    "\t\t\tprint(item)\n",
    "\telif choice == '4':\n",
    "\t\tprint('Goodbye!\\n')\n",
    "\t\tbreak\n",
    "\telse:\n",
    "\t\tprint('Please enter one of 1, 2, 3 or 4\\n')"
   ]
  }
 ],
 "metadata": {
  "kernelspec": {
   "display_name": "Python 3",
   "language": "python",
   "name": "python3"
  },
  "language_info": {
   "codemirror_mode": {
    "name": "ipython",
    "version": 3
   },
   "file_extension": ".py",
   "mimetype": "text/x-python",
   "name": "python",
   "nbconvert_exporter": "python",
   "pygments_lexer": "ipython3",
   "version": "3.12.9"
  }
 },
 "nbformat": 4,
 "nbformat_minor": 2
}
